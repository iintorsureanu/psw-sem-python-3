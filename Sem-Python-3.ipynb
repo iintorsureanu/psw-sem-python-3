{
 "cells": [
  {
   "cell_type": "markdown",
   "metadata": {},
   "source": [
    "# Seminar Python 3: Pandas - prelucrări statistice, gruparea și agregarea datalor în pachetul pandas"
   ]
  },
  {
   "cell_type": "markdown",
   "metadata": {},
   "source": [
    "Conversia datelor din șir de caractere în dată calendaristică"
   ]
  },
  {
   "cell_type": "code",
   "execution_count": null,
   "metadata": {},
   "outputs": [],
   "source": [
    "#Exemplu 1. Conversia coloanei date din șir de caractere în dată calendaristică\n",
    "import dateutil\n",
    "import pandas as pd\n",
    "df = pd.read_csv('phone_data.csv')\n",
    "print(df.dtypes)\n",
    "df['date'] = df['date'].apply(dateutil.parser.parse, dayfirst=True)\n",
    "print(df.dtypes)"
   ]
  },
  {
   "cell_type": "markdown",
   "metadata": {},
   "source": [
    "Gruparea înregistrărilor și aplicarea funcțiilor pe grupuri"
   ]
  },
  {
   "cell_type": "code",
   "execution_count": null,
   "metadata": {},
   "outputs": [],
   "source": [
    "#Exemplu 2. Posibilități de grupare\n",
    "import pandas as pd\n",
    "df = pd.read_csv('phone_data.csv')\n",
    "print(df.groupby(['item']).groups.keys())\n",
    "print(len(df.groupby(['item']).groups['call']))\n",
    "\n",
    "import pandas as pd\n",
    "df = pd.read_csv('phone_data.csv')\n",
    "print(df.groupby(['month']).groups.keys())\n",
    "print(len(df.groupby(['month']).groups['2014-11']))"
   ]
  },
  {
   "cell_type": "code",
   "execution_count": null,
   "metadata": {},
   "outputs": [],
   "source": [
    "#Exemplu 3. utilizare max(), min(), mean(), first(), last() \n",
    "#la nivel de grup\n",
    "import pandas as pd\n",
    "df = pd.read_csv('phone_data.csv')\n",
    "print('Prima inregistrare din coloana item pe valori distincte')\n",
    "print(df.groupby('item').first())\n",
    "print('Durata insumata pentru fiecare luna')\n",
    "print(df.groupby('month')['duration'].sum())\n",
    "print('Durata insumata pe convorbiri (calls), pentru fiecare retea')\n",
    "print(df[df['item'] == 'call'].groupby('network')['duration'].sum())"
   ]
  },
  {
   "cell_type": "code",
   "execution_count": null,
   "metadata": {},
   "outputs": [],
   "source": [
    "#Exemplu 4. Grupări complexe\n",
    "import pandas as pd\n",
    "df = pd.read_csv('phone_data.csv')\n",
    "print('Numarul de apeluri, sms, transfer date pentru fiecare luna')\n",
    "print(df.groupby(['month', 'item'])['date'].count())"
   ]
  },
  {
   "cell_type": "code",
   "execution_count": null,
   "metadata": {},
   "outputs": [],
   "source": [
    "#Exemplu 5. Gruparea și agregarea datelor\n",
    "import pandas as pd\n",
    "df = pd.read_csv('phone_data.csv')\n",
    "# Grupeaza dupa month si item si calculeaza statistici pentru fiecare grup\n",
    "print(df.groupby(['month', 'item']).agg({'duration':sum,      # calculeaza suma duratelor dupa fiecare grup\n",
    "                                     'network_type': \"count\", # numarul de tipuri de retele\n",
    "                                     'date': 'first'}))    # arata prima aparitie (data) pentru fiecare grup\n",
    "df1 = df.groupby(['month', 'item']).agg({'duration':sum,      # calculeaza suma duratelor dupa fiecare grup\n",
    "                                     'network_type': \"count\", # numarul de tipuri de retele\n",
    "                                     'date': 'first'})\n",
    "df1.to_csv('agregare.csv')"
   ]
  },
  {
   "cell_type": "code",
   "execution_count": null,
   "metadata": {},
   "outputs": [],
   "source": [
    "#Exemplu 6. Aplicarea unor funcții multiple unei singure coloane din grup\n",
    "import pandas as pd\n",
    "df = pd.read_csv('phone_data.csv')\n",
    "# Grupeaza dupa month si item. Calculeaza statistici pentru fiecare grup\n",
    "print(df.groupby(['month', 'item']).agg({'duration': [min, max, sum],      # calculeaza min, max, si sum pentru duration\n",
    "                                     'network_type': \"count\", # calculeaza numarul de network_type\n",
    "                                     'date': [min, 'first', 'nunique']}))    # calculeaza min, first, si numarul de date unice per grup"
   ]
  },
  {
   "cell_type": "markdown",
   "metadata": {},
   "source": [
    "Prelucrarea seturilor de date cu merge / join dataframes\n",
    "\n",
    "Vom utiliza fișierele **user_device.csv** și **user_usage.csv** având o coloană comună **use_id**.\n",
    "\n",
    "Coloana **Model** din **supported_devices.csv** are valori comune cu  **device** din **user_device.csv**."
   ]
  },
  {
   "cell_type": "code",
   "execution_count": null,
   "metadata": {},
   "outputs": [],
   "source": [
    "#Exemplu 7. Inner merge / inner join\n",
    "import pandas as pd\n",
    "df = pd.read_csv('user_usage.csv')\n",
    "df1 = pd.read_csv('user_device.csv')\n",
    "\n",
    "result = pd.merge(df,\n",
    "                  df1[['use_id', 'platform', 'device']],\n",
    "                  on='use_id')\n",
    "print(result)\n",
    "print('Structura fisier user_usage.csv ', df.shape)\n",
    "print('Structura fisier user_device.csv ', df1.shape)\n",
    "print(df['use_id'].isin(df1['use_id']).value_counts())"
   ]
  },
  {
   "cell_type": "code",
   "execution_count": null,
   "metadata": {},
   "outputs": [],
   "source": [
    "#Exemplu 8. Left merge / left join\n",
    "import pandas as pd\n",
    "df = pd.read_csv('user_usage.csv')\n",
    "df1 = pd.read_csv('user_device.csv')\n",
    "\n",
    "result = pd.merge(df,\n",
    "                  df1[['use_id', 'platform', 'device']],\n",
    "                  on='use_id',\n",
    "                  how='left')\n",
    "print(result)\n",
    "print('Structura fisier user_usage.csv ', df.shape)\n",
    "print('Structura fisier user_device.csv ', df1.shape)\n",
    "print(df['use_id'].isin(df1['use_id']).value_counts())"
   ]
  },
  {
   "cell_type": "code",
   "execution_count": null,
   "metadata": {},
   "outputs": [],
   "source": [
    "#Exemplu 9. Right merge / right join\n",
    "import pandas as pd\n",
    "df = pd.read_csv('user_usage.csv')\n",
    "df1 = pd.read_csv('user_device.csv')\n",
    "\n",
    "result = pd.merge(df,\n",
    "                  df1[['use_id', 'platform', 'device']],\n",
    "                  on='use_id',\n",
    "                  how='right')\n",
    "print(result)\n",
    "print('Structura fisier user_usage.csv ', df.shape)\n",
    "print('Structura fisier user_device.csv ', df1.shape)\n",
    "print(df['use_id'].isin(df1['use_id']).value_counts())"
   ]
  },
  {
   "cell_type": "code",
   "execution_count": null,
   "metadata": {},
   "outputs": [],
   "source": [
    "#Exemplu 10. Full outer merge / full outer join\n",
    "import pandas as pd\n",
    "df = pd.read_csv('user_usage.csv')\n",
    "df1 = pd.read_csv('user_device.csv')\n",
    "\n",
    "result = pd.merge(df,\n",
    "                  df1[['use_id', 'platform', 'device']],\n",
    "                  on='use_id',\n",
    "                  how='outer')\n",
    "print(result)\n",
    "print('Structura fisier user_usage.csv ', df.shape)\n",
    "print('Structura fisier user_device.csv ', df1.shape)\n",
    "print(df['use_id'].isin(df1['use_id']).value_counts())"
   ]
  },
  {
   "cell_type": "code",
   "execution_count": null,
   "metadata": {},
   "outputs": [],
   "source": [
    "#Exemplu 11. Full outer merge sau full outer join cu indicația _merge\n",
    "import pandas as pd\n",
    "df = pd.read_csv('user_usage.csv')\n",
    "df1 = pd.read_csv('user_device.csv')\n",
    "\n",
    "result = pd.merge(df,\n",
    "                  df1[['use_id', 'platform', 'device']],\n",
    "                  on='use_id',\n",
    "                  how='outer',\n",
    "                  indicator=True)\n",
    "print(result)\n",
    "print('Structura fisier user_usage.csv ', df.shape)\n",
    "print('Structura fisier user_device.csv ', df1.shape)\n",
    "print(df['use_id'].isin(df1['use_id']).value_counts())"
   ]
  },
  {
   "cell_type": "code",
   "execution_count": null,
   "metadata": {},
   "outputs": [],
   "source": [
    "#Exemplu 12. Merge utilizând trei seturi de date\n",
    "\n",
    "import pandas as pd\n",
    "df = pd.read_csv('user_usage.csv')\n",
    "df1 = pd.read_csv('user_device.csv')\n",
    "df3 = pd.read_csv('supported_devices.csv')\n",
    "\n",
    "result = pd.merge(df,\n",
    "                  df1[['use_id', 'platform', 'device']],\n",
    "                  on='use_id',\n",
    "                  how='left')\n",
    "\n",
    "df3.rename(columns={\"Retail Branding\": \"manufacturer\"}, inplace=True)\n",
    "result = pd.merge(result,\n",
    "                  df3[['manufacturer', 'Model']],\n",
    "                  left_on='device',\n",
    "                  right_on='Model',\n",
    "                  how='left')\n",
    "print(result.head())\n",
    "print(result.shape)"
   ]
  },
  {
   "cell_type": "code",
   "execution_count": null,
   "metadata": {},
   "outputs": [],
   "source": [
    "#Exemplu 13. Groupby și agg utilizând setul rezultat\n",
    "import pandas as pd\n",
    "df = pd.read_csv('user_usage.csv')\n",
    "df1 = pd.read_csv('user_device.csv')\n",
    "df3 = pd.read_csv('supported_devices.csv')\n",
    "\n",
    "result = pd.merge(df,\n",
    "                  df1[['use_id', 'platform', 'device']],\n",
    "                  on='use_id',\n",
    "                  how='left')\n",
    "\n",
    "df3.rename(columns={\"Retail Branding\": \"manufacturer\"}, inplace=True)\n",
    "result = pd.merge(result,\n",
    "                  df3[['manufacturer', 'Model']],\n",
    "                  left_on='device',\n",
    "                  right_on='Model',\n",
    "                  how='left')\n",
    "print(result.groupby(\"manufacturer\").agg({\n",
    "    \"outgoing_mins_per_month\": \"mean\",\n",
    "    \"outgoing_sms_per_month\": \"mean\",\n",
    "    \"monthly_mb\": \"mean\",\n",
    "    \"use_id\": \"count\"\n",
    "}))"
   ]
  },
  {
   "cell_type": "markdown",
   "metadata": {},
   "source": [
    "## Reprezentare grafică cu pachetul *matplotlib*"
   ]
  },
  {
   "cell_type": "code",
   "execution_count": null,
   "metadata": {},
   "outputs": [],
   "source": [
    "#Exemplu 14. Reprezentare grafică cu bare cu matplotlib.pyplot\n",
    "import pandas as pd\n",
    "import matplotlib.pyplot as plt\n",
    "pd.set_option(\"display.max_columns\",10)\n",
    "df = pd.read_csv('clienti_leasing20.csv')\n",
    "print(df['AGE'])\n",
    "df['AGE'].plot(kind='bar')\n",
    "plt.xlabel('ID_CLIENT')\n",
    "plt.ylabel('AGE')\n",
    "plt.show()"
   ]
  },
  {
   "cell_type": "code",
   "execution_count": null,
   "metadata": {},
   "outputs": [],
   "source": [
    "#Exemplu 15. Reprezentare grafică cu bare, aplicarea de culori \n",
    "#în funcție de valoare (% din max.)\n",
    "import pandas as pd\n",
    "import matplotlib.pyplot as plt\n",
    "from matplotlib import cm\n",
    "pd.set_option(\"display.max_columns\",10)\n",
    "df = pd.read_csv('clienti_leasing20.csv')\n",
    "print(df['AGE'])\n",
    "#all_colors = list(plt.cm.colors.cnames.keys())\n",
    "colors = cm.hsv( df['AGE']/ float(max(df['AGE'])))\n",
    "df['AGE'].plot(kind='bar',color=colors)\n",
    "plt.xlabel('ID_CLIENT')\n",
    "plt.ylabel('AGE')\n",
    "plt.show()"
   ]
  },
  {
   "cell_type": "code",
   "execution_count": null,
   "metadata": {},
   "outputs": [],
   "source": [
    "#Exemplu 16. Histrogramă cu matplotlib.pyplot\n",
    "import pandas as pd\n",
    "import matplotlib.pyplot as plt\n",
    "pd.set_option(\"display.max_columns\",10)\n",
    "df = pd.read_csv('clienti_leasing20.csv')\n",
    "print(df['AGE'])\n",
    "df['AGE'].plot(kind='hist')\n",
    "plt.xlabel('AGE')\n",
    "plt.show()"
   ]
  },
  {
   "cell_type": "code",
   "execution_count": null,
   "metadata": {},
   "outputs": [],
   "source": [
    "#Exemplu 17. Grafic cu gruparea și sortarea datelor cu matplotlib.pyplot\n",
    "import pandas as pd\n",
    "import matplotlib.pyplot as plt\n",
    "df = pd.read_csv('clienti_leasing20.csv')\n",
    "plot_data=df[df['SEX']=='m']\n",
    "plot_data=plot_data.groupby('JOB')['INCOME_PER_YEAR'].sum()\n",
    "plot_data.sort_values().plot(kind='bar')\n",
    "plt.show()"
   ]
  },
  {
   "cell_type": "markdown",
   "metadata": {},
   "source": [
    "# Referințe\n",
    "J. VanderPlas, Python Data Science Handbook: https://jakevdp.github.io/PythonDataScienceHandbook/index.html  \n",
    "https://pandas.pydata.org/docs/user_guide/index.html  \n",
    "https://matplotlib.org/index.html  \n",
    "https://www.shanelynn.ie/summarising-aggregation-and-grouping-data-in-python-pandas/  \n",
    "https://www.shanelynn.ie/merge-join-dataframes-python-pandas-index-1/"
   ]
  },
  {
   "cell_type": "markdown",
   "metadata": {},
   "source": [
    "## Exerciții\n",
    "1) Să se reprezinte grafic (de tip pie) durata însumată a sms pe lună, din **phone_data.csv**."
   ]
  },
  {
   "cell_type": "code",
   "execution_count": null,
   "metadata": {},
   "outputs": [],
   "source": []
  },
  {
   "cell_type": "markdown",
   "metadata": {},
   "source": [
    "2) Să se creeze setul format din **user_usage** și **supported_devices** și să se reprezinte grafic (bare verticale) traficul însumat (coloana **monthly_mb**) pentru fiecare brand (coloana **Retail Branding**)."
   ]
  },
  {
   "cell_type": "code",
   "execution_count": null,
   "metadata": {},
   "outputs": [],
   "source": []
  },
  {
   "cell_type": "markdown",
   "metadata": {},
   "source": [
    "3) Să se afișeze, utilizând fișierul **phone_data.csv**, durata însumată pentru fiecare lună și durata însumată pentru un anumit tip de rețea (**mobile**) pentru fiecare lună."
   ]
  },
  {
   "cell_type": "code",
   "execution_count": null,
   "metadata": {},
   "outputs": [],
   "source": []
  }
 ],
 "metadata": {
  "kernelspec": {
   "display_name": "Python 3",
   "language": "python",
   "name": "python3"
  },
  "language_info": {
   "codemirror_mode": {
    "name": "ipython",
    "version": 3
   },
   "file_extension": ".py",
   "mimetype": "text/x-python",
   "name": "python",
   "nbconvert_exporter": "python",
   "pygments_lexer": "ipython3",
   "version": "3.7.4"
  }
 },
 "nbformat": 4,
 "nbformat_minor": 4
}
